{
 "cells": [
  {
   "cell_type": "code",
   "execution_count": null,
   "id": "limiting-study",
   "metadata": {},
   "outputs": [],
   "source": []
  },
  {
   "cell_type": "code",
   "execution_count": 1,
   "id": "british-education",
   "metadata": {},
   "outputs": [],
   "source": [
    "#Utility Libaries\n",
    "import pickle\n",
    "import numpy as np\n",
    "import pandas as pd\n",
    "\n",
    "#Plotting Libaries\n",
    "import seaborn as sns\n",
    "import matplotlib.pyplot as plt\n",
    "\n",
    "#Sklearn Libraries\n",
    "from sklearn.linear_model import LogisticRegression\n",
    "from sklearn.model_selection import train_test_split\n",
    "from sklearn.feature_extraction.text import TfidfVectorizer\n",
    "from sklearn.metrics import confusion_matrix, classification_report"
   ]
  },
  {
   "cell_type": "code",
   "execution_count": null,
   "id": "personal-outside",
   "metadata": {},
   "outputs": [],
   "source": []
  },
  {
   "cell_type": "code",
   "execution_count": null,
   "id": "instant-cable",
   "metadata": {},
   "outputs": [],
   "source": [
    "#Loading Dataset for training, CSV File\n",
    "encodingData = \"ISO-8859-1\"\n",
    "data = pd.read_csv('C:/Datasets/TwitterData/processedData.csv', encoding=encodingData , low_memory=False)"
   ]
  },
  {
   "cell_type": "code",
   "execution_count": null,
   "id": "still-debate",
   "metadata": {},
   "outputs": [],
   "source": []
  },
  {
   "cell_type": "code",
   "execution_count": null,
   "id": "recent-turtle",
   "metadata": {},
   "outputs": [],
   "source": [
    "#Graph the distribution, used for checking the dataset for distribution\n",
    "#ax = data.groupby('sentiment').count().plot(kind='bar', title='Distribution of data', legend=False)\n",
    "#ax.set_xticklabels(['Negative','Positive'], rotation=0)"
   ]
  },
  {
   "cell_type": "code",
   "execution_count": null,
   "id": "educated-experience",
   "metadata": {},
   "outputs": [],
   "source": []
  },
  {
   "cell_type": "code",
   "execution_count": null,
   "id": "confident-cleaners",
   "metadata": {},
   "outputs": [],
   "source": [
    "#Splitting Data into Training and Testing Data\n",
    "X_train, X_test, y_train, y_test = train_test_split(data['text'], data['sentiment'], test_size = 0.05, random_state = 0)\n",
    "print(f'Data Split Complete')"
   ]
  },
  {
   "cell_type": "code",
   "execution_count": null,
   "id": "engaging-italic",
   "metadata": {},
   "outputs": [],
   "source": []
  },
  {
   "cell_type": "code",
   "execution_count": null,
   "id": "vanilla-gossip",
   "metadata": {},
   "outputs": [],
   "source": []
  },
  {
   "cell_type": "code",
   "execution_count": null,
   "id": "dental-excerpt",
   "metadata": {},
   "outputs": [],
   "source": [
    "#Vector                \n",
    "vector = TfidfVectorizer(ngram_range=(1,2), max_features=500000)\n",
    "vector.fit(X_train.astype(\"U\").str.lower())\n",
    "\n",
    "print(f'Fitted')\n",
    "print('Number of feature words: ', len(vector.get_feature_names()))"
   ]
  },
  {
   "cell_type": "code",
   "execution_count": null,
   "id": "prime-cycling",
   "metadata": {},
   "outputs": [],
   "source": [
    "#Data Transformation\n",
    "X_train = vector.transform(X_train)\n",
    "X_test = vector.transform(X_test)\n",
    "print(f'Data Transformed')"
   ]
  },
  {
   "cell_type": "code",
   "execution_count": null,
   "id": "known-seafood",
   "metadata": {},
   "outputs": [],
   "source": [
    "def model_Evaluate(model):\n",
    "    \n",
    "    # Predict values for Test dataset\n",
    "    y_pred = model.predict(X_test)\n",
    "\n",
    "    # Print the evaluation metrics for the dataset.\n",
    "    print(classification_report(y_test, y_pred))\n",
    "    \n",
    "    # Compute and plot the Confusion matrix\n",
    "    cf_matrix = confusion_matrix(y_test, y_pred)\n",
    "\n",
    "    categories  = ['Negative','Positive']\n",
    "    groupNames = ['True Neg','False Pos', 'False Neg','True Pos']\n",
    "    groupPercentages = ['{0:.2%}'.format(value) for value in cf_matrix.flatten() / np.sum(cf_matrix)]\n",
    "\n",
    "    labels = [f'{v1}\\n{v2}' for v1, v2 in zip(groupNames,groupPercentages)]\n",
    "    labels = np.asarray(labels).reshape(2,2)\n",
    "\n",
    "    sns.heatmap(cf_matrix, annot = labels, cmap = 'Blues',fmt = '',\n",
    "                xticklabels = categories, yticklabels = categories)\n",
    "\n",
    "    plt.xlabel(\"Predicted values\", fontdict = {'size':14}, labelpad = 10)\n",
    "    plt.ylabel(\"Actual values\"   , fontdict = {'size':14}, labelpad = 10)\n",
    "    plt.title (\"Confusion Matrix\", fontdict = {'size':18}, pad = 20)"
   ]
  },
  {
   "cell_type": "code",
   "execution_count": null,
   "id": "weekly-volume",
   "metadata": {},
   "outputs": [],
   "source": [
    "#Logistic Regression\n",
    "LRmodel = LogisticRegression(C = 2, max_iter = 1000, n_jobs = -1)\n",
    "LRmodel.fit(X_train, y_train)\n",
    "model_Evaluate(LRmodel)"
   ]
  },
  {
   "cell_type": "code",
   "execution_count": null,
   "id": "close-worker",
   "metadata": {},
   "outputs": [],
   "source": []
  },
  {
   "cell_type": "code",
   "execution_count": null,
   "id": "exclusive-daisy",
   "metadata": {},
   "outputs": [],
   "source": []
  },
  {
   "cell_type": "code",
   "execution_count": null,
   "id": "given-click",
   "metadata": {},
   "outputs": [],
   "source": []
  }
 ],
 "metadata": {
  "kernelspec": {
   "display_name": "Python 3",
   "language": "python",
   "name": "python3"
  },
  "language_info": {
   "codemirror_mode": {
    "name": "ipython",
    "version": 3
   },
   "file_extension": ".py",
   "mimetype": "text/x-python",
   "name": "python",
   "nbconvert_exporter": "python",
   "pygments_lexer": "ipython3",
   "version": "3.8.5"
  }
 },
 "nbformat": 4,
 "nbformat_minor": 5
}
